{
 "cells": [
  {
   "cell_type": "code",
   "execution_count": 180,
   "metadata": {
    "collapsed": true
   },
   "outputs": [],
   "source": [
    "from pyquery import PyQuery as pq\n",
    "from app.models import Malt\n",
    "from app import db"
   ]
  },
  {
   "cell_type": "code",
   "execution_count": 2,
   "metadata": {
    "collapsed": true
   },
   "outputs": [],
   "source": [
    "doc = pq('http://hobbybrauer.de/forum/wiki/doku.php/malzuebersicht')"
   ]
  },
  {
   "cell_type": "code",
   "execution_count": 128,
   "metadata": {
    "collapsed": false
   },
   "outputs": [],
   "source": [
    "def replace(s):\n",
    "    replace_list = [\n",
    "        (',', '.'),\n",
    "        ('~', ''),\n",
    "        ('?', '')\n",
    "    ]\n",
    "    for char in replace_list:\n",
    "        s = s.replace(char[0], char[1])\n",
    "    return s\n",
    "    \n",
    "def median(s_val):\n",
    "    values = [str.strip(s) for s in s_val.split('-')]\n",
    "    try:\n",
    "        values = [float(replace(s)) for s in values]\n",
    "    except ValueError:\n",
    "        return None\n",
    "    else:    \n",
    "        return sum(values) / len(values)"
   ]
  },
  {
   "cell_type": "code",
   "execution_count": 170,
   "metadata": {
    "collapsed": false
   },
   "outputs": [],
   "source": [
    "def get_malts_from_hobbybrauer():\n",
    "    for table in doc('table'):\n",
    "        rows = doc(table).find('tr')\n",
    "        for row in rows[1:]:\n",
    "            cells = doc(row).find('td') \n",
    "\n",
    "            name = cells.eq(0).text()\n",
    "            english_name = cells.eq(1).text()\n",
    "            ebc = median(cells.eq(2).text())\n",
    "\n",
    "            if name == '':\n",
    "                name = english_name\n",
    "\n",
    "            if ebc is not None:\n",
    "                yield(Malt(name=name, ebc=ebc))"
   ]
  },
  {
   "cell_type": "code",
   "execution_count": 171,
   "metadata": {
    "collapsed": false
   },
   "outputs": [],
   "source": [
    "malts = sorted(list(get_malts_from_hobbybrauer()), key=lambda x: x.name)"
   ]
  },
  {
   "cell_type": "code",
   "execution_count": 175,
   "metadata": {
    "collapsed": false
   },
   "outputs": [],
   "source": [
    "db.session.add_all(malts)\n",
    "db.session.commit()"
   ]
  }
 ],
 "metadata": {
  "kernelspec": {
   "display_name": "Python 3",
   "language": "python",
   "name": "python3"
  },
  "language_info": {
   "codemirror_mode": {
    "name": "ipython",
    "version": 3
   },
   "file_extension": ".py",
   "mimetype": "text/x-python",
   "name": "python",
   "nbconvert_exporter": "python",
   "pygments_lexer": "ipython3",
   "version": "3.4.3"
  }
 },
 "nbformat": 4,
 "nbformat_minor": 0
}
