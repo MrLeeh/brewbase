{
 "cells": [
  {
   "cell_type": "code",
   "execution_count": 1,
   "metadata": {
    "collapsed": false
   },
   "outputs": [],
   "source": [
    "from pyquery import PyQuery as pq\n",
    "from app.models import Hop\n",
    "from app import db"
   ]
  },
  {
   "cell_type": "code",
   "execution_count": 2,
   "metadata": {
    "collapsed": true
   },
   "outputs": [],
   "source": [
    "doc = pq('https://brauerei.mueggelland.de/hopfen.html')"
   ]
  },
  {
   "cell_type": "code",
   "execution_count": 34,
   "metadata": {
    "collapsed": false
   },
   "outputs": [],
   "source": [
    "def get_hoplist():\n",
    "    table1 = doc('table').eq(0)\n",
    "    for row in table1.find('tr')[2:]:\n",
    "        cells = doc(row).find('td') \n",
    "        name = doc(row).find('td div.Name').html()\n",
    "        alpha_acid = cells.eq(1).text()\n",
    "        comment = cells.eq(2).text()\n",
    "\n",
    "        if name is not None:\n",
    "            name = name.split('<br />')[0]\n",
    "            alpha_acid = float(alpha_acid.split('%')[0])\n",
    "            yield Hop(name=name, alpha_acid=alpha_acid, comment=comment)\n",
    "    "
   ]
  },
  {
   "cell_type": "code",
   "execution_count": 36,
   "metadata": {
    "collapsed": false
   },
   "outputs": [],
   "source": [
    "Hop.query.delete()\n",
    "db.session.add_all(get_hoplist())"
   ]
  },
  {
   "cell_type": "code",
   "execution_count": 37,
   "metadata": {
    "collapsed": true
   },
   "outputs": [],
   "source": [
    "db.session.commit()"
   ]
  },
  {
   "cell_type": "code",
   "execution_count": null,
   "metadata": {
    "collapsed": true
   },
   "outputs": [],
   "source": []
  }
 ],
 "metadata": {
  "kernelspec": {
   "display_name": "Python 3",
   "language": "python",
   "name": "python3"
  },
  "language_info": {
   "codemirror_mode": {
    "name": "ipython",
    "version": 3
   },
   "file_extension": ".py",
   "mimetype": "text/x-python",
   "name": "python",
   "nbconvert_exporter": "python",
   "pygments_lexer": "ipython3",
   "version": "3.4.3"
  }
 },
 "nbformat": 4,
 "nbformat_minor": 0
}
